{
 "cells": [
  {
   "cell_type": "code",
   "execution_count": 3,
   "id": "67ecdbce",
   "metadata": {},
   "outputs": [],
   "source": [
    "import pandas as pd\n",
    "import numpy as np\n",
    "import requests\n",
    "from datetime import datetime\n",
    "from time import sleep\n",
    "from sklearn.preprocessing import StandardScaler"
   ]
  },
  {
   "cell_type": "markdown",
   "id": "a430f871",
   "metadata": {},
   "source": [
    "### API Key and Info"
   ]
  },
  {
   "cell_type": "code",
   "execution_count": 4,
   "id": "188f3c73",
   "metadata": {},
   "outputs": [],
   "source": [
    "FRED_API_KEY = \"5bcb629a19526b04c40ac4dc78c8bb0b\"\n",
    "FRED_SERIES = {\n",
    "    \"UNRATE\": \"Unemployment Rate\",\n",
    "    \"CIVPART\": \"Labor Force Participation Rate\",\n",
    "    \"LNS12300060\": \"Employment-Population (Men)\",\n",
    "    \"LNS12300002\": \"Employment-Population (Women)\",\n",
    "    \"U6RATE\": \"U-6 Unemployment Rate (Underemployment)\",\n",
    "}"
   ]
  },
  {
   "cell_type": "code",
   "execution_count": 5,
   "id": "72b0a950",
   "metadata": {},
   "outputs": [],
   "source": [
    "def fetch_fred_series(series_id, start_date=\"2000-01-01\", end_date=\"2024-12-01\"):\n",
    "    url = (\n",
    "        f\"https://api.stlouisfed.org/fred/series/observations?\"\n",
    "        f\"series_id={series_id}&api_key={FRED_API_KEY}&file_type=json\"\n",
    "        f\"&observation_start={start_date}&observation_end={end_date}\"\n",
    "    )\n",
    "    response = requests.get(url)\n",
    "    response.raise_for_status()\n",
    "    data = response.json()[\"observations\"]\n",
    "    df = pd.DataFrame(data)[[\"date\", \"value\"]]\n",
    "    df[\"date\"] = pd.to_datetime(df[\"date\"])\n",
    "    df[\"value\"] = pd.to_numeric(df[\"value\"], errors=\"coerce\")\n",
    "    df.set_index(\"date\", inplace=True)\n",
    "    df.rename(columns={\"value\": series_id}, inplace=True)\n",
    "    return df\n"
   ]
  },
  {
   "cell_type": "markdown",
   "id": "57e25d00",
   "metadata": {},
   "source": [
    "### Fetch Data"
   ]
  },
  {
   "cell_type": "code",
   "execution_count": 6,
   "id": "d2a61b5a",
   "metadata": {},
   "outputs": [
    {
     "name": "stdout",
     "output_type": "stream",
     "text": [
      "Fetching Unemployment Rate...\n",
      "Fetching Labor Force Participation Rate...\n",
      "Fetching Employment-Population (Men)...\n",
      "Fetching Employment-Population (Women)...\n",
      "Fetching U-6 Unemployment Rate (Underemployment)...\n"
     ]
    }
   ],
   "source": [
    "dfs = []\n",
    "for series_id in FRED_SERIES:\n",
    "    print(f\"Fetching {FRED_SERIES[series_id]}...\")\n",
    "    df = fetch_fred_series(series_id)\n",
    "    dfs.append(df)\n",
    "    sleep(1)  #Rate limit issue\n",
    "\n",
    "merged = pd.concat(dfs, axis=1)\n",
    "\n",
    "merged.dropna(inplace=True)\n",
    "\n",
    "merged.columns = [FRED_SERIES[col] for col in merged.columns]"
   ]
  },
  {
   "cell_type": "markdown",
   "id": "f6d5dcf7",
   "metadata": {},
   "source": [
    "### Store as csv"
   ]
  },
  {
   "cell_type": "code",
   "execution_count": 7,
   "id": "26abb2a9",
   "metadata": {},
   "outputs": [],
   "source": [
    "merged.to_csv(\"data/multivariate_unemployment_LSTNet.csv\")\n",
    "#save in data folder\n"
   ]
  },
  {
   "cell_type": "code",
   "execution_count": 8,
   "id": "42fcb89e",
   "metadata": {},
   "outputs": [
    {
     "data": {
      "text/html": [
       "<div>\n",
       "<style scoped>\n",
       "    .dataframe tbody tr th:only-of-type {\n",
       "        vertical-align: middle;\n",
       "    }\n",
       "\n",
       "    .dataframe tbody tr th {\n",
       "        vertical-align: top;\n",
       "    }\n",
       "\n",
       "    .dataframe thead th {\n",
       "        text-align: right;\n",
       "    }\n",
       "</style>\n",
       "<table border=\"1\" class=\"dataframe\">\n",
       "  <thead>\n",
       "    <tr style=\"text-align: right;\">\n",
       "      <th></th>\n",
       "      <th>date</th>\n",
       "      <th>Unemployment Rate</th>\n",
       "      <th>Labor Force Participation Rate</th>\n",
       "      <th>Employment-Population (Men)</th>\n",
       "      <th>Employment-Population (Women)</th>\n",
       "      <th>U-6 Unemployment Rate (Underemployment)</th>\n",
       "    </tr>\n",
       "  </thead>\n",
       "  <tbody>\n",
       "    <tr>\n",
       "      <th>0</th>\n",
       "      <td>2000-01-01</td>\n",
       "      <td>4.0</td>\n",
       "      <td>67.3</td>\n",
       "      <td>81.8</td>\n",
       "      <td>57.6</td>\n",
       "      <td>7.0</td>\n",
       "    </tr>\n",
       "    <tr>\n",
       "      <th>1</th>\n",
       "      <td>2000-02-01</td>\n",
       "      <td>4.1</td>\n",
       "      <td>67.3</td>\n",
       "      <td>81.8</td>\n",
       "      <td>57.5</td>\n",
       "      <td>7.1</td>\n",
       "    </tr>\n",
       "    <tr>\n",
       "      <th>2</th>\n",
       "      <td>2000-03-01</td>\n",
       "      <td>4.0</td>\n",
       "      <td>67.3</td>\n",
       "      <td>81.7</td>\n",
       "      <td>57.5</td>\n",
       "      <td>7.1</td>\n",
       "    </tr>\n",
       "    <tr>\n",
       "      <th>3</th>\n",
       "      <td>2000-04-01</td>\n",
       "      <td>3.8</td>\n",
       "      <td>67.3</td>\n",
       "      <td>81.9</td>\n",
       "      <td>58.0</td>\n",
       "      <td>6.9</td>\n",
       "    </tr>\n",
       "    <tr>\n",
       "      <th>4</th>\n",
       "      <td>2000-05-01</td>\n",
       "      <td>4.0</td>\n",
       "      <td>67.1</td>\n",
       "      <td>81.5</td>\n",
       "      <td>57.5</td>\n",
       "      <td>7.1</td>\n",
       "    </tr>\n",
       "  </tbody>\n",
       "</table>\n",
       "</div>"
      ],
      "text/plain": [
       "         date  Unemployment Rate  Labor Force Participation Rate  \\\n",
       "0  2000-01-01                4.0                            67.3   \n",
       "1  2000-02-01                4.1                            67.3   \n",
       "2  2000-03-01                4.0                            67.3   \n",
       "3  2000-04-01                3.8                            67.3   \n",
       "4  2000-05-01                4.0                            67.1   \n",
       "\n",
       "   Employment-Population (Men)  Employment-Population (Women)  \\\n",
       "0                         81.8                           57.6   \n",
       "1                         81.8                           57.5   \n",
       "2                         81.7                           57.5   \n",
       "3                         81.9                           58.0   \n",
       "4                         81.5                           57.5   \n",
       "\n",
       "   U-6 Unemployment Rate (Underemployment)  \n",
       "0                                      7.0  \n",
       "1                                      7.1  \n",
       "2                                      7.1  \n",
       "3                                      6.9  \n",
       "4                                      7.1  "
      ]
     },
     "execution_count": 8,
     "metadata": {},
     "output_type": "execute_result"
    }
   ],
   "source": [
    "df = pd.read_csv(\"data/multivariate_unemployment_LSTNet.csv\")\n",
    "df.head()"
   ]
  },
  {
   "cell_type": "markdown",
   "id": "c83f669d",
   "metadata": {},
   "source": [
    "### Date and data size"
   ]
  },
  {
   "cell_type": "code",
   "execution_count": 9,
   "id": "f8a410fd",
   "metadata": {},
   "outputs": [
    {
     "name": "stdout",
     "output_type": "stream",
     "text": [
      "first date:  2000-01-01\n",
      "last date:  2024-12-01\n",
      "data shape:  (300, 6)\n"
     ]
    }
   ],
   "source": [
    "print(\"first date: \", df.date.min())\n",
    "print(\"last date: \", df.date.max())\n",
    "print(\"data shape: \", df.shape)"
   ]
  },
  {
   "cell_type": "markdown",
   "id": "11525cb0",
   "metadata": {},
   "source": [
    "### Scale Data"
   ]
  },
  {
   "cell_type": "code",
   "execution_count": 15,
   "id": "c3cfbfc4",
   "metadata": {},
   "outputs": [
    {
     "name": "stdout",
     "output_type": "stream",
     "text": [
      "X-only columns Index(['Unemployment Rate', 'Labor Force Participation Rate',\n",
      "       'Employment-Population (Men)', 'Employment-Population (Women)',\n",
      "       'U-6 Unemployment Rate (Underemployment)'],\n",
      "      dtype='object')\n",
      "X_scaled shape:  (300, 5)\n"
     ]
    },
    {
     "data": {
      "text/plain": [
       "array([[-0.86622494,  1.72280372,  1.67486276,  1.6713414 , -1.0186159 ],\n",
       "       [-0.81514032,  1.72280372,  1.67486276,  1.60973648, -0.9878482 ],\n",
       "       [-0.86622494,  1.72280372,  1.62606614,  1.60973648, -0.9878482 ],\n",
       "       ...,\n",
       "       [-0.81514032, -0.98612547,  1.08930328,  0.06961356, -0.80324202],\n",
       "       [-0.7640557 , -0.98612547,  0.99171004,  0.00800864, -0.80324202],\n",
       "       [-0.81514032, -0.98612547,  1.04050666,  0.06961356, -0.86477741]])"
      ]
     },
     "execution_count": 15,
     "metadata": {},
     "output_type": "execute_result"
    }
   ],
   "source": [
    "X_only = df.select_dtypes(include='number')\n",
    "print(\"X-only columns\", X_only.columns)\n",
    "\n",
    "scaler = StandardScaler()\n",
    "X_scaled = scaler.fit_transform(X_only)\n",
    "print(\"X_scaled shape: \", X_scaled.shape)\n",
    "X_scaled "
   ]
  },
  {
   "cell_type": "markdown",
   "id": "f13b474a",
   "metadata": {},
   "source": [
    "### Ready for data to be sent to LSTNet"
   ]
  }
 ],
 "metadata": {
  "kernelspec": {
   "display_name": "base",
   "language": "python",
   "name": "python3"
  },
  "language_info": {
   "codemirror_mode": {
    "name": "ipython",
    "version": 3
   },
   "file_extension": ".py",
   "mimetype": "text/x-python",
   "name": "python",
   "nbconvert_exporter": "python",
   "pygments_lexer": "ipython3",
   "version": "3.10.14"
  }
 },
 "nbformat": 4,
 "nbformat_minor": 5
}
